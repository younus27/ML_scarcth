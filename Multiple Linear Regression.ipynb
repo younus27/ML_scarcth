{
 "cells": [
  {
   "cell_type": "code",
   "execution_count": 1,
   "metadata": {},
   "outputs": [],
   "source": [
    "import numpy as np\n",
    "import matplotlib.pyplot as plt\n",
    "import pandas as pd\n",
    "import math"
   ]
  },
  {
   "cell_type": "code",
   "execution_count": 2,
   "metadata": {},
   "outputs": [
    {
     "data": {
      "text/html": [
       "<div>\n",
       "<style scoped>\n",
       "    .dataframe tbody tr th:only-of-type {\n",
       "        vertical-align: middle;\n",
       "    }\n",
       "\n",
       "    .dataframe tbody tr th {\n",
       "        vertical-align: top;\n",
       "    }\n",
       "\n",
       "    .dataframe thead th {\n",
       "        text-align: right;\n",
       "    }\n",
       "</style>\n",
       "<table border=\"1\" class=\"dataframe\">\n",
       "  <thead>\n",
       "    <tr style=\"text-align: right;\">\n",
       "      <th></th>\n",
       "      <th>sepal_length</th>\n",
       "      <th>sepal_width</th>\n",
       "      <th>petal_length</th>\n",
       "      <th>petal_width</th>\n",
       "      <th>species</th>\n",
       "    </tr>\n",
       "  </thead>\n",
       "  <tbody>\n",
       "    <tr>\n",
       "      <td>0</td>\n",
       "      <td>5.1</td>\n",
       "      <td>3.5</td>\n",
       "      <td>1.4</td>\n",
       "      <td>0.2</td>\n",
       "      <td>Iris-setosa</td>\n",
       "    </tr>\n",
       "    <tr>\n",
       "      <td>1</td>\n",
       "      <td>4.9</td>\n",
       "      <td>3.0</td>\n",
       "      <td>1.4</td>\n",
       "      <td>0.2</td>\n",
       "      <td>Iris-setosa</td>\n",
       "    </tr>\n",
       "    <tr>\n",
       "      <td>2</td>\n",
       "      <td>4.7</td>\n",
       "      <td>3.2</td>\n",
       "      <td>1.3</td>\n",
       "      <td>0.2</td>\n",
       "      <td>Iris-setosa</td>\n",
       "    </tr>\n",
       "    <tr>\n",
       "      <td>3</td>\n",
       "      <td>4.6</td>\n",
       "      <td>3.1</td>\n",
       "      <td>1.5</td>\n",
       "      <td>0.2</td>\n",
       "      <td>Iris-setosa</td>\n",
       "    </tr>\n",
       "    <tr>\n",
       "      <td>4</td>\n",
       "      <td>5.0</td>\n",
       "      <td>3.6</td>\n",
       "      <td>1.4</td>\n",
       "      <td>0.2</td>\n",
       "      <td>Iris-setosa</td>\n",
       "    </tr>\n",
       "  </tbody>\n",
       "</table>\n",
       "</div>"
      ],
      "text/plain": [
       "   sepal_length  sepal_width  petal_length  petal_width      species\n",
       "0           5.1          3.5           1.4          0.2  Iris-setosa\n",
       "1           4.9          3.0           1.4          0.2  Iris-setosa\n",
       "2           4.7          3.2           1.3          0.2  Iris-setosa\n",
       "3           4.6          3.1           1.5          0.2  Iris-setosa\n",
       "4           5.0          3.6           1.4          0.2  Iris-setosa"
      ]
     },
     "execution_count": 2,
     "metadata": {},
     "output_type": "execute_result"
    }
   ],
   "source": [
    "df = pd.read_csv(\"IRIS.csv\")\n",
    "#df = pd.read_csv(\"housingdata.csv\",\n",
    "#                 names=['CRIM','ZN','INDUS','CHAS','NOX','RM','AGE','DIS','RAD','TAX','PTRATIO','B','LSTAT','MEDV'])\n",
    "df.head()"
   ]
  },
  {
   "cell_type": "code",
   "execution_count": 3,
   "metadata": {},
   "outputs": [],
   "source": [
    "#df.species.unique()\n",
    "df[\"species\"]= df[\"species\"].replace(\"Iris-setosa\",1 )\n",
    "df[\"species\"]= df[\"species\"].replace(\"Iris-versicolor\",2 )\n",
    "df[\"species\"]= df[\"species\"].replace(\"Iris-virginica\",3 )"
   ]
  },
  {
   "cell_type": "code",
   "execution_count": 4,
   "metadata": {},
   "outputs": [],
   "source": [
    "X = np.matrix(df.iloc[:,:-1])\n",
    "Y = np.matrix(df.iloc[:,-1:])"
   ]
  },
  {
   "cell_type": "code",
   "execution_count": 5,
   "metadata": {},
   "outputs": [],
   "source": [
    "def make_X_mat(dataset):\n",
    "    return np.append(np.ones( (dataset.shape[0],1)) , dataset, axis=1)\n",
    "Xn = make_X_mat(X)"
   ]
  },
  {
   "cell_type": "code",
   "execution_count": 20,
   "metadata": {},
   "outputs": [
    {
     "name": "stdout",
     "output_type": "stream",
     "text": [
      "m:\n",
      " [[-0.10974146]\n",
      " [-0.04424045]\n",
      " [ 0.22700138]\n",
      " [ 0.60989412]]\n",
      "b:\n",
      " [[-0.10974146]]\n"
     ]
    }
   ],
   "source": [
    "def make_theta(Xn , Y):\n",
    "    XT = Xn.T ##tanspose\n",
    "    XTX_inv = np.dot(XT,Xn).I\n",
    "    return np.dot(XTX_inv,np.dot(XT,Y))\n",
    "theta = make_theta(Xn , Y)\n",
    "#theta\n",
    "print('m:\\n',theta[1:])\n",
    "print('b:\\n',theta[1])"
   ]
  },
  {
   "cell_type": "code",
   "execution_count": 7,
   "metadata": {},
   "outputs": [],
   "source": [
    "def predict(input_x):\n",
    "    y_hat = 0\n",
    "    for i in range(df.shape[1]-1):\n",
    "        y_hat += input_x[i]*theta[i+1]\n",
    "    return math.ceil(y_hat+theta[0])"
   ]
  },
  {
   "cell_type": "code",
   "execution_count": 8,
   "metadata": {},
   "outputs": [
    {
     "name": "stdout",
     "output_type": "stream",
     "text": [
      "Enter input:   5.1 3.5 1.4 0.2\n"
     ]
    },
    {
     "data": {
      "text/plain": [
       "1"
      ]
     },
     "execution_count": 8,
     "metadata": {},
     "output_type": "execute_result"
    }
   ],
   "source": [
    "input_x = np.array(list(input('Enter input:   ').split(' ')) , dtype='float64')\n",
    "predict(input_x)"
   ]
  },
  {
   "cell_type": "code",
   "execution_count": 16,
   "metadata": {},
   "outputs": [
    {
     "name": "stdout",
     "output_type": "stream",
     "text": [
      "Root Mean Squared Error:  0.0000096790\n"
     ]
    }
   ],
   "source": [
    "# Root Mean Squared Error\n",
    "def RMSE():\n",
    "    yhat = []\n",
    "    for i in range(df.shape[0]):\n",
    "        yhat.append((Y[i]-predict(X[i].T))**2)\n",
    "    return (np.mean(yhat)/df.shape[0])**2\n",
    "print('Root Mean Squared Error: ',\"{:.10f}\".format(RMSE()))"
   ]
  },
  {
   "cell_type": "markdown",
   "metadata": {},
   "source": [
    "m:\n",
    " [[-0.10974146]\n",
    " [-0.04424045]\n",
    " [ 0.22700138]\n",
    " [ 0.60989412]]\n",
    "b:\n",
    " [[-0.10974146]]\n",
    " \n",
    "Enter input:   5.1 3.5 1.4 0.2\n",
    "1\n",
    "\n",
    "Root Mean Squared Error:  0.0000096790"
   ]
  },
  {
   "cell_type": "code",
   "execution_count": null,
   "metadata": {},
   "outputs": [],
   "source": []
  }
 ],
 "metadata": {
  "kernelspec": {
   "display_name": "Python 3",
   "language": "python",
   "name": "python3"
  },
  "language_info": {
   "codemirror_mode": {
    "name": "ipython",
    "version": 3
   },
   "file_extension": ".py",
   "mimetype": "text/x-python",
   "name": "python",
   "nbconvert_exporter": "python",
   "pygments_lexer": "ipython3",
   "version": "3.7.4"
  }
 },
 "nbformat": 4,
 "nbformat_minor": 2
}
