{
 "cells": [
  {
   "cell_type": "markdown",
   "metadata": {},
   "source": [
    "# Today we rise"
   ]
  },
  {
   "cell_type": "code",
   "execution_count": 5,
   "metadata": {},
   "outputs": [],
   "source": [
    "import pandas as pd\n",
    "from math import log\n",
    "\n",
    "#Its import timee!!"
   ]
  },
  {
   "cell_type": "code",
   "execution_count": 6,
   "metadata": {},
   "outputs": [
    {
     "data": {
      "text/html": [
       "<div>\n",
       "<style scoped>\n",
       "    .dataframe tbody tr th:only-of-type {\n",
       "        vertical-align: middle;\n",
       "    }\n",
       "\n",
       "    .dataframe tbody tr th {\n",
       "        vertical-align: top;\n",
       "    }\n",
       "\n",
       "    .dataframe thead th {\n",
       "        text-align: right;\n",
       "    }\n",
       "</style>\n",
       "<table border=\"1\" class=\"dataframe\">\n",
       "  <thead>\n",
       "    <tr style=\"text-align: right;\">\n",
       "      <th></th>\n",
       "      <th>Age</th>\n",
       "      <th>Income</th>\n",
       "      <th>Student</th>\n",
       "      <th>Credit Rate</th>\n",
       "      <th>Class</th>\n",
       "    </tr>\n",
       "    <tr>\n",
       "      <th>ID</th>\n",
       "      <th></th>\n",
       "      <th></th>\n",
       "      <th></th>\n",
       "      <th></th>\n",
       "      <th></th>\n",
       "    </tr>\n",
       "  </thead>\n",
       "  <tbody>\n",
       "    <tr>\n",
       "      <td>1</td>\n",
       "      <td>youth</td>\n",
       "      <td>high</td>\n",
       "      <td>no</td>\n",
       "      <td>fair</td>\n",
       "      <td>no</td>\n",
       "    </tr>\n",
       "    <tr>\n",
       "      <td>2</td>\n",
       "      <td>youth</td>\n",
       "      <td>high</td>\n",
       "      <td>no</td>\n",
       "      <td>excellent</td>\n",
       "      <td>no</td>\n",
       "    </tr>\n",
       "    <tr>\n",
       "      <td>3</td>\n",
       "      <td>middle age</td>\n",
       "      <td>high</td>\n",
       "      <td>no</td>\n",
       "      <td>fair</td>\n",
       "      <td>yes</td>\n",
       "    </tr>\n",
       "    <tr>\n",
       "      <td>4</td>\n",
       "      <td>senior</td>\n",
       "      <td>medium</td>\n",
       "      <td>no</td>\n",
       "      <td>fair</td>\n",
       "      <td>yes</td>\n",
       "    </tr>\n",
       "    <tr>\n",
       "      <td>5</td>\n",
       "      <td>senior</td>\n",
       "      <td>low</td>\n",
       "      <td>yes</td>\n",
       "      <td>fair</td>\n",
       "      <td>yes</td>\n",
       "    </tr>\n",
       "    <tr>\n",
       "      <td>6</td>\n",
       "      <td>senior</td>\n",
       "      <td>low</td>\n",
       "      <td>yes</td>\n",
       "      <td>excellent</td>\n",
       "      <td>no</td>\n",
       "    </tr>\n",
       "    <tr>\n",
       "      <td>7</td>\n",
       "      <td>middle age</td>\n",
       "      <td>low</td>\n",
       "      <td>yes</td>\n",
       "      <td>excellent</td>\n",
       "      <td>yes</td>\n",
       "    </tr>\n",
       "    <tr>\n",
       "      <td>8</td>\n",
       "      <td>youth</td>\n",
       "      <td>medium</td>\n",
       "      <td>no</td>\n",
       "      <td>fair</td>\n",
       "      <td>no</td>\n",
       "    </tr>\n",
       "    <tr>\n",
       "      <td>9</td>\n",
       "      <td>youth</td>\n",
       "      <td>low</td>\n",
       "      <td>yes</td>\n",
       "      <td>fair</td>\n",
       "      <td>yes</td>\n",
       "    </tr>\n",
       "    <tr>\n",
       "      <td>10</td>\n",
       "      <td>senior</td>\n",
       "      <td>medium</td>\n",
       "      <td>yes</td>\n",
       "      <td>fair</td>\n",
       "      <td>yes</td>\n",
       "    </tr>\n",
       "  </tbody>\n",
       "</table>\n",
       "</div>"
      ],
      "text/plain": [
       "           Age  Income Student Credit Rate Class\n",
       "ID                                              \n",
       "1        youth    high      no        fair    no\n",
       "2        youth    high      no   excellent    no\n",
       "3   middle age    high      no        fair   yes\n",
       "4       senior  medium      no        fair   yes\n",
       "5       senior     low     yes        fair   yes\n",
       "6       senior     low     yes   excellent    no\n",
       "7   middle age     low     yes   excellent   yes\n",
       "8        youth  medium      no        fair    no\n",
       "9        youth     low     yes        fair   yes\n",
       "10      senior  medium     yes        fair   yes"
      ]
     },
     "execution_count": 6,
     "metadata": {},
     "output_type": "execute_result"
    }
   ],
   "source": [
    "df = pd.read_csv(\"dataset.csv\")\n",
    "df.set_index('ID', inplace=True)\n",
    "df.head(10)\n",
    "\n",
    "# Check out the dataset"
   ]
  },
  {
   "cell_type": "code",
   "execution_count": 7,
   "metadata": {},
   "outputs": [
    {
     "name": "stdout",
     "output_type": "stream",
     "text": [
      "0.9402859586706309\n"
     ]
    }
   ],
   "source": [
    "# For the target class\n",
    "info = 0\n",
    "vc = df['Class'].value_counts(normalize=True)\n",
    "for item in df['Class'].unique():\n",
    "    info += -(vc[item] * log(vc[item], 2))\n",
    "\n",
    "print(info)"
   ]
  },
  {
   "cell_type": "code",
   "execution_count": 8,
   "metadata": {},
   "outputs": [
    {
     "data": {
      "text/plain": [
       "['Age', 'Income', 'Student', 'Credit Rate']"
      ]
     },
     "execution_count": 8,
     "metadata": {},
     "output_type": "execute_result"
    }
   ],
   "source": [
    "lala = list(df.columns)\n",
    "lala.pop(-1)\n",
    "lala  # This is the attributes list"
   ]
  },
  {
   "cell_type": "code",
   "execution_count": 9,
   "metadata": {},
   "outputs": [
    {
     "name": "stdout",
     "output_type": "stream",
     "text": [
      "Attribute:  Age\n",
      "Table with target attribute: \n",
      "Age         Class\n",
      "middle age  yes      1.0\n",
      "senior      yes      0.6\n",
      "            no       0.4\n",
      "youth       no       0.6\n",
      "            yes      0.4\n",
      "Name: Class, dtype: float64\n",
      "Info =  0.6935361388961918 \n",
      "IG =  0.2467498197744391\n",
      "\n",
      "Attribute:  Income\n",
      "Table with target attribute: \n",
      "Income  Class\n",
      "high    no       0.500000\n",
      "        yes      0.500000\n",
      "low     yes      0.750000\n",
      "        no       0.250000\n",
      "medium  yes      0.666667\n",
      "        no       0.333333\n",
      "Name: Class, dtype: float64\n",
      "Info =  0.9110633930116763 \n",
      "IG =  0.029222565658954647\n",
      "\n",
      "Attribute:  Student\n",
      "Table with target attribute: \n",
      "Student  Class\n",
      "no       no       0.571429\n",
      "         yes      0.428571\n",
      "yes      yes      0.833333\n",
      "         no       0.166667\n",
      "yes      yes      1.000000\n",
      "Name: Class, dtype: float64\n",
      "Info =  0.7711951058664204 \n",
      "IG =  0.16909085280421055\n",
      "\n",
      "Attribute:  Credit Rate\n",
      "Table with target attribute: \n",
      "Credit Rate  Class\n",
      "excellent    no       0.50\n",
      "             yes      0.50\n",
      "fair         yes      0.75\n",
      "             no       0.25\n",
      "Name: Class, dtype: float64\n",
      "Info =  0.8921589282623617 \n",
      "IG =  0.04812703040826927\n",
      "\n"
     ]
    }
   ],
   "source": [
    "for ooh in lala: # Attributes\n",
    "    info_smol = 0 # small info\n",
    "    vc_class = df.groupby(ooh)['Class'].value_counts(normalize=True) # Class value counts, target class\n",
    "    vc_attr = vc = df[ooh].value_counts(normalize=True) # Attribute value counts, the one in ooh\n",
    "    for item in df[ooh].unique(): # Unique values in attribute, eg. youth middle and old\n",
    "        for target in vc_class[item].index:\n",
    "            info_smol += -vc_attr[item]*vc_class[item][target]*log(vc_class[item][target], 2)   \n",
    "    \n",
    "    ig = info - info_smol\n",
    "    print(\"Attribute: \", ooh)\n",
    "    print(\"Table with target attribute: \")\n",
    "    print(vc_class)\n",
    "    print(\"Info = \", info_smol, \"\\nIG = \", ig)\n",
    "    print()"
   ]
  },
  {
   "cell_type": "code",
   "execution_count": null,
   "metadata": {},
   "outputs": [],
   "source": []
  },
  {
   "cell_type": "code",
   "execution_count": null,
   "metadata": {},
   "outputs": [],
   "source": []
  },
  {
   "cell_type": "code",
   "execution_count": null,
   "metadata": {},
   "outputs": [],
   "source": []
  }
 ],
 "metadata": {
  "kernelspec": {
   "display_name": "Python 3",
   "language": "python",
   "name": "python3"
  },
  "language_info": {
   "codemirror_mode": {
    "name": "ipython",
    "version": 3
   },
   "file_extension": ".py",
   "mimetype": "text/x-python",
   "name": "python",
   "nbconvert_exporter": "python",
   "pygments_lexer": "ipython3",
   "version": "3.7.4"
  }
 },
 "nbformat": 4,
 "nbformat_minor": 2
}
