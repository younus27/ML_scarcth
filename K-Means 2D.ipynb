{
 "cells": [
  {
   "cell_type": "code",
   "execution_count": 1,
   "metadata": {},
   "outputs": [
    {
     "name": "stdout",
     "output_type": "stream",
     "text": [
      "Enter No of points:\t13\n",
      "Enter co-ordinates (x,y):\t2,1\n",
      "Enter co-ordinates (x,y):\t2,2\n",
      "Enter co-ordinates (x,y):\t3,1\n",
      "Enter co-ordinates (x,y):\t3,2\n",
      "Enter co-ordinates (x,y):\t11,1\n",
      "Enter co-ordinates (x,y):\t10,2\n",
      "Enter co-ordinates (x,y):\t10,1\n",
      "Enter co-ordinates (x,y):\t9,2\n",
      "Enter co-ordinates (x,y):\t9,1\n",
      "Enter co-ordinates (x,y):\t7,8\n",
      "Enter co-ordinates (x,y):\t6,7\n",
      "Enter co-ordinates (x,y):\t5,8\n",
      "Enter co-ordinates (x,y):\t7,9\n",
      "Enter No of Clusters:\t3\n"
     ]
    }
   ],
   "source": [
    "#Take Input \n",
    "\n",
    "n = int(input(\"Enter No of points:\\t\"))\n",
    "points = []\n",
    "\n",
    "for i in range(n):\n",
    "     points.append(input(\"Enter co-ordinates (x,y):\\t\").split(\",\"))\n",
    "\n",
    "k = int(input(\"Enter No of Clusters:\\t\"))\n"
   ]
  },
  {
   "cell_type": "code",
   "execution_count": 12,
   "metadata": {},
   "outputs": [],
   "source": [
    "#Sample Input 1\n",
    "#n =12\n",
    "# points = [['1', '0'],['1', '1'],['2', '1'],['2', '2'],\n",
    "#           ['10', '1'],['10', '2'],['11', '1'],['11', '2'],\n",
    "#           ['7', '7'],['7', '8'],['8', '7'],['8', '8']]\n",
    "#k = 3"
   ]
  },
  {
   "cell_type": "code",
   "execution_count": 20,
   "metadata": {},
   "outputs": [],
   "source": [
    "# #Sample Input 2\n",
    "# n =13\n",
    "# points = [['2', '1'],['2', '2'],['3', '1'],['3', '2'],\n",
    "#           ['11', '1'],['10', '2'],['10', '1'],['9', '2'],['9', '1'],\n",
    "#           ['7', '8'],['6', '7'],['5', '8'],['7', '9']]\n",
    "# k = 3"
   ]
  },
  {
   "cell_type": "code",
   "execution_count": 2,
   "metadata": {},
   "outputs": [],
   "source": [
    "#Create at Random Initial Clusters\n",
    "import random\n",
    "centroid = []\n",
    "for i in range (1,k+1):\n",
    "    centroid = random.sample(points,k)"
   ]
  },
  {
   "cell_type": "code",
   "execution_count": 3,
   "metadata": {},
   "outputs": [],
   "source": [
    "#Calculate  Distance of All the points from each clusters and Select the Nearest Cluster \n",
    "def euclidian_dist(centroid,cluster):\n",
    "    \n",
    "    #Clear Cluster to store New values\n",
    "    cluster = [[None for _ in range(0)] for _ in range(k)]\n",
    "    \n",
    "    for i in range (n):\n",
    "        distance = []\n",
    "        minC = 10000.0\n",
    "        for j in range (k):\n",
    "            #dist = sqrt( (x1-x2)^2  + (y1-y2)^2 )\n",
    "            distance.append(((float(centroid[j][0])-float(points[i][0]))**2 + (float(centroid[j][1])-float(points[i][1]))**2)**0.5)\n",
    "        \n",
    "        #Finding the Nearest Cluster ie> Minimum Distance\n",
    "        for j in range (k):\n",
    "            if distance[j] < minC:\n",
    "                minC = distance[j]\n",
    "                nearest_Cluster = j\n",
    "        \n",
    "        # Add the current point(x,y) to the nearest cluster \n",
    "        cluster[nearest_Cluster].append(points[i])\n",
    "    return cluster"
   ]
  },
  {
   "cell_type": "code",
   "execution_count": 4,
   "metadata": {},
   "outputs": [],
   "source": [
    "def new_centroids(centroid,cluster,new_centroid):\n",
    "    for i in range(k):\n",
    "        sumX = 0\n",
    "        sumY = 0\n",
    "        for item in cluster[i]:\n",
    "            sumX += float(item[0])\n",
    "            sumY += float(item[1])\n",
    "        new_centroid[i].append(str(round(sumX/len(cluster[i]))))\n",
    "        new_centroid[i].append(str(round(sumY/len(cluster[i]))))"
   ]
  },
  {
   "cell_type": "code",
   "execution_count": 5,
   "metadata": {},
   "outputs": [
    {
     "name": "stdout",
     "output_type": "stream",
     "text": [
      "Initial Centroids:   [['10', '2'], ['9', '2'], ['6', '7']]\n",
      "Clusters:\n",
      "[['11', '1'], ['10', '2'], ['10', '1']]\n",
      "[['2', '1'], ['3', '1'], ['9', '2'], ['9', '1']]\n",
      "[['2', '2'], ['3', '2'], ['7', '8'], ['6', '7'], ['5', '8'], ['7', '9']]\n",
      "New centroids:\t [['10', '1'], ['6', '1'], ['5', '6']]\n",
      "\n",
      "\n",
      "Centroids:\t [['10', '1'], ['6', '1'], ['5', '6']]\n",
      "Clusters:\n",
      "[['11', '1'], ['10', '2'], ['10', '1'], ['9', '2'], ['9', '1']]\n",
      "[['2', '1'], ['2', '2'], ['3', '1'], ['3', '2']]\n",
      "[['7', '8'], ['6', '7'], ['5', '8'], ['7', '9']]\n",
      "New centroids:\t [['10', '1'], ['2', '2'], ['6', '8']]\n",
      "\n",
      "\n",
      "Centroids:\t [['10', '1'], ['2', '2'], ['6', '8']]\n",
      "Clusters:\n",
      "[['11', '1'], ['10', '2'], ['10', '1'], ['9', '2'], ['9', '1']]\n",
      "[['2', '1'], ['2', '2'], ['3', '1'], ['3', '2']]\n",
      "[['7', '8'], ['6', '7'], ['5', '8'], ['7', '9']]\n",
      "New centroids:\t [['10', '1'], ['2', '2'], ['6', '8']]\n",
      "\n",
      "\n",
      "Final Cluster:\n",
      "[['11', '1'], ['10', '2'], ['10', '1'], ['9', '2'], ['9', '1']]\n",
      "[['2', '1'], ['2', '2'], ['3', '1'], ['3', '2']]\n",
      "[['7', '8'], ['6', '7'], ['5', '8'], ['7', '9']]\n"
     ]
    }
   ],
   "source": [
    "#Create Empty Cluster List  \n",
    "cluster = [[None for _ in range(0)] for _ in range(k)]\n",
    "#Create Empty NEw Centroid List List  \n",
    "new_centroid = [[None for _ in range(0)] for _ in range(k)]\n",
    "\n",
    "def K_means(centroid,cluster,new_centroid):\n",
    "    # Creatin empty 2D cluster List\n",
    "    cluster = euclidian_dist(centroid,cluster)\n",
    "    \n",
    "    print(\"Initial Centroids:  \",centroid)\n",
    "    print(\"Clusters:\")\n",
    "    for i in range (k):\n",
    "        print(cluster[i])\n",
    "        \n",
    "    #Calculate New Centroids\n",
    "    new_centroids(centroid,cluster,new_centroid)\n",
    "    print(\"New centroids:\\t\",new_centroid)\n",
    "    print(\"\\n\")\n",
    "    \n",
    "    \n",
    "    while(centroid != new_centroid):\n",
    "        \n",
    "        centroid = new_centroid\n",
    "        #Clear New Centroid\n",
    "        new_centroid = [[None for _ in range(0)] for _ in range(k)]\n",
    "        \n",
    "        cluster = euclidian_dist(centroid,cluster)\n",
    "        print(\"Centroids:\\t\",centroid)\n",
    "        print(\"Clusters:\")\n",
    "        for i in range (k):\n",
    "            print(cluster[i])\n",
    "            \n",
    "        #Calculate New Centroids\n",
    "        new_centroids(centroid,cluster,new_centroid)\n",
    "        print(\"New centroids:\\t\",new_centroid)\n",
    "        print(\"\\n\")\n",
    "    \n",
    "    return cluster    \n",
    "        \n",
    "cluster = K_means(centroid,cluster,new_centroid)\n",
    "\n",
    "\n",
    "print(\"Final Cluster:\")\n",
    "for i in range (k):\n",
    "            print(cluster[i])"
   ]
  },
  {
   "cell_type": "code",
   "execution_count": null,
   "metadata": {},
   "outputs": [],
   "source": [
    "    "
   ]
  },
  {
   "cell_type": "code",
   "execution_count": null,
   "metadata": {},
   "outputs": [],
   "source": []
  },
  {
   "cell_type": "code",
   "execution_count": null,
   "metadata": {},
   "outputs": [],
   "source": []
  },
  {
   "cell_type": "code",
   "execution_count": null,
   "metadata": {},
   "outputs": [],
   "source": []
  },
  {
   "cell_type": "code",
   "execution_count": null,
   "metadata": {},
   "outputs": [],
   "source": [
    "# Unused Code\n",
    "\n",
    "# points_X =[]\n",
    "# points_Y =[]\n",
    "# for i in range(2*n):\n",
    "#     if i%2 == 0 :\n",
    "#         point_X.append(points[i])\n",
    "#     else :\n",
    "#         point_Y.append(points[i])"
   ]
  }
 ],
 "metadata": {
  "kernelspec": {
   "display_name": "Python 3",
   "language": "python",
   "name": "python3"
  },
  "language_info": {
   "codemirror_mode": {
    "name": "ipython",
    "version": 3
   },
   "file_extension": ".py",
   "mimetype": "text/x-python",
   "name": "python",
   "nbconvert_exporter": "python",
   "pygments_lexer": "ipython3",
   "version": "3.7.4"
  }
 },
 "nbformat": 4,
 "nbformat_minor": 2
}
